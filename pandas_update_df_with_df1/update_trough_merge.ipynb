{
 "cells": [
  {
   "cell_type": "markdown",
   "metadata": {},
   "source": [
    "# Method to update DF1 with info from DF2\n",
    "\n",
    "- DF1 has its own rows and columns\n",
    "- DF2 has its own rows and columns\n",
    "- DF1 and DF2 share one column that must be used as the joining column\n",
    "- The value of DF2.col<m> will replace the value of DF1.col<n> when DF1.col<id> == DF2.col<id>"
   ]
  },
  {
   "cell_type": "code",
   "execution_count": 5,
   "metadata": {},
   "outputs": [
    {
     "name": "stdout",
     "output_type": "stream",
     "text": [
      "    A   B   C     D\n",
      "0  A0  B0  C0  <NA>\n",
      "1  A1  B1  C1  <NA>\n",
      "2  A2  B2  C2  <NA>\n",
      "3  A3  B3  C3  <NA>\n",
      "    C   D\n",
      "0  C1  D1\n",
      "1  C3  D3\n",
      "    C   A   B     D\n",
      "0  C0  A0  B0  <NA>\n",
      "1  C1  A1  B1    D1\n",
      "2  C2  A2  B2  <NA>\n",
      "3  C3  A3  B3    D3\n"
     ]
    }
   ],
   "source": [
    "import pandas as pd\n",
    "import numpy as np\n",
    "\n",
    "DF1 = pd.DataFrame({'A': ['A0', 'A1', 'A2', 'A3'], 'B':['B0','B1', 'B2', 'B3'], 'C':['C0','C1','C2','C3'], 'D':[pd.NA,pd.NA,pd.NA,pd.NA]})\n",
    "DF2 = pd.DataFrame({'C':['C1','C3'], 'D':['D1','D3']})\n",
    "\n",
    "print(DF1)\n",
    "print(DF2)\n",
    "\n",
    "DF1 = DF1.set_index('C')\n",
    "DF2 = DF2.set_index('C')\n",
    "DF1.update(DF2)\n",
    "DF1 = DF1.reset_index()\n",
    "print(DF1)\n"
   ]
  }
 ],
 "metadata": {
  "kernelspec": {
   "display_name": "br",
   "language": "python",
   "name": "python3"
  },
  "language_info": {
   "codemirror_mode": {
    "name": "ipython",
    "version": 3
   },
   "file_extension": ".py",
   "mimetype": "text/x-python",
   "name": "python",
   "nbconvert_exporter": "python",
   "pygments_lexer": "ipython3",
   "version": "3.10.13"
  }
 },
 "nbformat": 4,
 "nbformat_minor": 2
}
